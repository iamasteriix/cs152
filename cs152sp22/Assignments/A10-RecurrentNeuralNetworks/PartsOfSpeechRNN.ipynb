{
 "cells": [
  {
   "cell_type": "markdown",
   "id": "67ca2a2b",
   "metadata": {
    "toc": true
   },
   "source": [
    "<h1>Table of Contents<span class=\"tocSkip\"></span></h1>\n",
    "<div class=\"toc\"><ul class=\"toc-item\"><li><span><a href=\"#Tasks\" data-toc-modified-id=\"Tasks-1\"><span class=\"toc-item-num\">1&nbsp;&nbsp;</span>Tasks</a></span></li><li><span><a href=\"#Imports\" data-toc-modified-id=\"Imports-2\"><span class=\"toc-item-num\">2&nbsp;&nbsp;</span>Imports</a></span></li><li><span><a href=\"#Data-Processing\" data-toc-modified-id=\"Data-Processing-3\"><span class=\"toc-item-num\">3&nbsp;&nbsp;</span>Data Processing</a></span><ul class=\"toc-item\"><li><span><a href=\"#Raw-dataset\" data-toc-modified-id=\"Raw-dataset-3.1\"><span class=\"toc-item-num\">3.1&nbsp;&nbsp;</span>Raw dataset</a></span></li><li><span><a href=\"#Preprocess-raw-dataset\" data-toc-modified-id=\"Preprocess-raw-dataset-3.2\"><span class=\"toc-item-num\">3.2&nbsp;&nbsp;</span>Preprocess raw dataset</a></span></li><li><span><a href=\"#Prepare-data-for-use-as-NN-input\" data-toc-modified-id=\"Prepare-data-for-use-as-NN-input-3.3\"><span class=\"toc-item-num\">3.3&nbsp;&nbsp;</span>Prepare data for use as NN input</a></span></li><li><span><a href=\"#Question:-What-is-the-highest-accuracy-you'd-expect-from-a-&quot;dumb&quot;-classifier-(hint:-look-at-the-distribution-of-the-targets-in-the-output-above)?\" data-toc-modified-id=\"Question:-What-is-the-highest-accuracy-you'd-expect-from-a-&quot;dumb&quot;-classifier-(hint:-look-at-the-distribution-of-the-targets-in-the-output-above)?-3.4\"><span class=\"toc-item-num\">3.4&nbsp;&nbsp;</span>Question: What is the highest accuracy you'd expect from a \"dumb\" classifier (hint: look at the distribution of the targets in the output above)?</a></span></li></ul></li><li><span><a href=\"#Building-a-Parts-of-Speech-Classifier\" data-toc-modified-id=\"Building-a-Parts-of-Speech-Classifier-4\"><span class=\"toc-item-num\">4&nbsp;&nbsp;</span>Building a Parts-of-Speech Classifier</a></span><ul class=\"toc-item\"><li><span><a href=\"#Word-embeddings\" data-toc-modified-id=\"Word-embeddings-4.1\"><span class=\"toc-item-num\">4.1&nbsp;&nbsp;</span>Word embeddings</a></span><ul class=\"toc-item\"><li><span><a href=\"#Question:-What-do-you-expect-to-see-printed-for-the-indices?\" data-toc-modified-id=\"Question:-What-do-you-expect-to-see-printed-for-the-indices?-4.1.1\"><span class=\"toc-item-num\">4.1.1&nbsp;&nbsp;</span>Question: What do you expect to see printed for the indices?</a></span></li><li><span><a href=\"#Question:-What-is-the-expected-shape-of-embed_output?\" data-toc-modified-id=\"Question:-What-is-the-expected-shape-of-embed_output?-4.1.2\"><span class=\"toc-item-num\">4.1.2&nbsp;&nbsp;</span>Question: What is the expected shape of <code>embed_output</code>?</a></span></li></ul></li><li><span><a href=\"#Adding-an-LSTM-(RNN)-layer\" data-toc-modified-id=\"Adding-an-LSTM-(RNN)-layer-4.2\"><span class=\"toc-item-num\">4.2&nbsp;&nbsp;</span>Adding an LSTM (RNN) layer</a></span><ul class=\"toc-item\"><li><span><a href=\"#Question:-What-is-the-expected-shape-of-lstm_output?\" data-toc-modified-id=\"Question:-What-is-the-expected-shape-of-lstm_output?-4.2.1\"><span class=\"toc-item-num\">4.2.1&nbsp;&nbsp;</span>Question: What is the expected shape of <code>lstm_output</code>?</a></span></li></ul></li><li><span><a href=\"#Classifiying-the-LSTM-output\" data-toc-modified-id=\"Classifiying-the-LSTM-output-4.3\"><span class=\"toc-item-num\">4.3&nbsp;&nbsp;</span>Classifiying the LSTM output</a></span><ul class=\"toc-item\"><li><span><a href=\"#Question:-What-is-the-expected-shape-of-linear_output?\" data-toc-modified-id=\"Question:-What-is-the-expected-shape-of-linear_output?-4.3.1\"><span class=\"toc-item-num\">4.3.1&nbsp;&nbsp;</span>Question: What is the expected shape of <code>linear_output</code>?</a></span></li></ul></li></ul></li><li><span><a href=\"#Training-an-LSTM-Model\" data-toc-modified-id=\"Training-an-LSTM-Model-5\"><span class=\"toc-item-num\">5&nbsp;&nbsp;</span>Training an LSTM Model</a></span><ul class=\"toc-item\"><li><span><a href=\"#Setting-all-hyperparameters\" data-toc-modified-id=\"Setting-all-hyperparameters-5.1\"><span class=\"toc-item-num\">5.1&nbsp;&nbsp;</span>Setting all hyperparameters</a></span></li><li><span><a href=\"#Splitting-the-dataset-into-training-and-validation-partitions\" data-toc-modified-id=\"Splitting-the-dataset-into-training-and-validation-partitions-5.2\"><span class=\"toc-item-num\">5.2&nbsp;&nbsp;</span>Splitting the dataset into training and validation partitions</a></span></li><li><span><a href=\"#Creating-the-parts-of-speech-LSTM-model\" data-toc-modified-id=\"Creating-the-parts-of-speech-LSTM-model-5.3\"><span class=\"toc-item-num\">5.3&nbsp;&nbsp;</span>Creating the parts-of-speech LSTM model</a></span></li><li><span><a href=\"#Training\" data-toc-modified-id=\"Training-5.4\"><span class=\"toc-item-num\">5.4&nbsp;&nbsp;</span>Training</a></span></li><li><span><a href=\"#Examining-results\" data-toc-modified-id=\"Examining-results-5.5\"><span class=\"toc-item-num\">5.5&nbsp;&nbsp;</span>Examining results</a></span></li></ul></li><li><span><a href=\"#Using-the-Model-for-Inference\" data-toc-modified-id=\"Using-the-Model-for-Inference-6\"><span class=\"toc-item-num\">6&nbsp;&nbsp;</span>Using the Model for Inference</a></span></li></ul></div>"
   ]
  },
  {
   "cell_type": "markdown",
   "id": "7d08c513",
   "metadata": {},
   "source": [
    "# Predicting Parts-of-Speech with an LSTM\n",
    "\n",
    "Let's preview the end result. We want to take a sentence and output the part-of-speech for each word in that sentence. Something like this:\n",
    "\n",
    "**Code**\n",
    "\n",
    "```python\n",
    "new_sentence = \"I is a teeth\"\n",
    "\n",
    "...\n",
    "\n",
    "# Acting on the preprocessed sentence\n",
    "predictions = model(word_indices)\n",
    "\n",
    "...\n",
    "```\n",
    "\n",
    "**Output**\n",
    "\n",
    "```text\n",
    "I     => Noun\n",
    "is    => Verb\n",
    "a     => Determiner\n",
    "teeth => Noun\n",
    "```"
   ]
  },
  {
   "cell_type": "markdown",
   "id": "c50228bb",
   "metadata": {},
   "source": [
    "## Tasks\n",
    "\n",
    "1. Add two additional sentences (for every member of your group) to the [list on this google sheet](https://docs.google.com/spreadsheets/d/1HJmlehaYhGWclDo1t0k6i1VHxN15zr8ZmJj7Rf_VEaI/edit#gid=1489716043). You can thank previous semesters for the existing dataset.\n",
    "\n",
    "1. **Do not run all cells in the notebook.** You will need to make some predictions prior to running cells. Read through the notebook as a group, stopping and answering each question on gradescope as you go.\n",
    "\n",
    "1. After you work through the notebook once, you should try to improve accuracy by changing hyperparameters (including the network parameters and network architecture--extending the classification part of the network might be a good idea).\n",
    "\n",
    "1. (Optional) Try changing the model out for a\n",
    "    + fully connected network,\n",
    "    + convolutional neural network, or\n",
    "    + transformer."
   ]
  },
  {
   "cell_type": "markdown",
   "id": "cbdad3bb",
   "metadata": {},
   "source": [
    "## Imports"
   ]
  },
  {
   "cell_type": "code",
   "execution_count": 52,
   "id": "484b5fef",
   "metadata": {},
   "outputs": [],
   "source": [
    "from random import shuffle\n",
    "\n",
    "import torch\n",
    "from torchsummary import summary\n",
    "\n",
    "from fastprogress.fastprogress import progress_bar, master_bar\n",
    "\n",
    "import matplotlib.pyplot as plt\n",
    "from jupyterthemes import jtplot\n",
    "\n",
    "jtplot.style(context=\"talk\")"
   ]
  },
  {
   "cell_type": "markdown",
   "id": "2e919c0d",
   "metadata": {},
   "source": [
    "## Data Processing"
   ]
  },
  {
   "cell_type": "markdown",
   "id": "f6d3e4e0",
   "metadata": {},
   "source": [
    "### Raw dataset\n",
    "\n",
    "- Add two sentences and corresponding parts of speech per group member\n",
    "- You can use this utility for double checking your parts of speech: https://parts-of-speech.info/\n",
    "- I will put them into the notebook (you will need to pull the updates)\n",
    "- Do not include any punctuation\n",
    "- Your sentences must only include nouns, verbs, and determiners\n",
    "    + N for noun\n",
    "    + V for verb\n",
    "    + D for determiner\n",
    "- You can mark pronouns as nouns\n",
    "- We should have 40 new sentences when you all are done"
   ]
  },
  {
   "cell_type": "code",
   "execution_count": 46,
   "id": "86b2051f",
   "metadata": {},
   "outputs": [],
   "source": [
    "raw_dataset = [\n",
    "    (\"The dog ate the apple\", \"D N V D N\"),\n",
    "    (\"Everybody read that book\", \"N V D N\"),\n",
    "    (\"Trapp is sleeping\", \"N V V\"),\n",
    "    (\"Everybody ate the apple\", \"N V D N\"),\n",
    "    (\"Cats are good\", \"N V D\"),\n",
    "    (\"Dogs are not as good as cats\", \"N V D D D D N\"),\n",
    "    (\"Dogs eat dog food\", \"N V N N\"),\n",
    "    (\"Watermelon is the best food\", \"N V D D N\"),\n",
    "    (\"I want a milkshake right now\", \"N V D N D D\"),\n",
    "    (\"I have too much homework\", \"N V D D N\"),\n",
    "    (\"Zoom won't work\", \"N D V\"),\n",
    "    (\"Pie also sounds good\", \"N D V D\"),\n",
    "    (\"The college is having the department fair this Friday\", \"D N V V D N N D N\"),\n",
    "    (\"Research interests span many areas\", \"N N V D N\"),\n",
    "    (\"Alex is finishing his Ph.D\", \"N V V D N\"),\n",
    "    (\"She is the author\", \"N V D N\"),\n",
    "    (\"It is almost the end of the semester\", \"N V D D N D D N\"),\n",
    "    (\"Blue is a color\", \"N V D N\"),\n",
    "    (\"They wrote a book\", \"N V D N\"),\n",
    "    (\"The syrup covers the pancake\", \"D N V D N\"),\n",
    "    (\"Harrison has these teeth\", \"N V D N\"),\n",
    "    (\"The numbers are fractions\", \"D N V N\"),\n",
    "    (\"Yesterday happened\", \"N V\"),\n",
    "    (\"Caramel is sweet\", \"N V D\"),\n",
    "    (\"Computers use electricity\", \"N V N\"),\n",
    "    (\"Gold is a valuable thing\", \"N V D D N\"),\n",
    "    (\"This extension cord helps\", \"D D N V\"),\n",
    "    (\"It works on my machine\", \"N V D D N\"),\n",
    "    (\"We have the words\", \"N V D N\"),\n",
    "    (\"Trapp is a dog\", \"N V D N\"),\n",
    "    (\"This is a computer\", \"N V D N\"),\n",
    "    (\"I love lamps\", \"N V N\"),\n",
    "    (\"I walked outside\", \"N V N\"),\n",
    "    (\"You never bike home\", \"N D V N\"),\n",
    "    (\"You are a wizard Harry\", \"N V D N N\"),\n",
    "    (\"Trapp ate the shoe\", \"N V D N\"),\n",
    "    (\"Jett failed his test\", \"N V D N\"),\n",
    "    (\"Alice won the game\", \"N V D N\"),\n",
    "    (\"The class lasted a semester\", \"D N V D N\"),\n",
    "    (\"The tree had a branch\", \"D N V D N\"),\n",
    "    (\"I ran a race\", \"N V D N\"),\n",
    "    (\"The dog barked\", \"D N V\"),\n",
    "    (\"Toby hit the wall\", \"N V D N\"),\n",
    "    (\"Zayn ate an apple\", \"N V D N\"),\n",
    "    (\"The cat fought the dog\", \"D N V D N\"),\n",
    "    (\"I got an A\", \"N V D N\"),\n",
    "    (\"The A hurt\", \"D N V\"),\n",
    "    (\"I jump\", \"N V\"),\n",
    "    (\"I drank a yerb\", \"N V D N\"),\n",
    "    (\"The snake ate a fruit\", \"D N V D N\"),\n",
    "    (\"I played the game\", \"N V D N\"),\n",
    "    (\"I watched a movie\", \"N V D N\"),\n",
    "    (\"Clark fixed the audio\", \"N V D N\"),\n",
    "    (\"I went to Frary\", \"N V D N\"),\n",
    "    (\"I go to Pomona\", \"N V D N\"),\n",
    "    (\"Food are friends not fish\", \"N V N D N\"),\n",
    "    (\"You are reading this\", \"N V D N\"),\n",
    "    (\"Wonderland protocol is amazing\", \"D N V D\"),\n",
    "    (\"This is a sentence\", \"D V D N\"),\n",
    "    (\"I should be doing homework\", \"N V V V N\"),\n",
    "    (\"Computers are tools\", \"N V N\"),\n",
    "    (\"The whale swims\", \"D N V\"),\n",
    "    (\"A cup is filled\", \"D N V V\"),\n",
    "    (\"This is a cat\", \"D V D N\"),\n",
    "    (\"These are trees\", \"D V N\"),\n",
    "    (\"The cat is the teacher\", \"D N V D N\"),\n",
    "    (\"I ate food today\", \"N V N N\"),\n",
    "    (\"I am a human\", \"N V D N\"),\n",
    "    (\"The cat sleeps\", \"D N V\"),\n",
    "    (\"Whales are mammals\", \"N V N\"),\n",
    "    (\"I like turtles\", \"N V N\"),\n",
    "    (\"A shark ate me\", \"D N V N\"),\n",
    "    (\"There are mirrors\", \"D V N\"),\n",
    "    (\"The bus spins\", \"D N V\"),\n",
    "    (\"Computers are machines\", \"N V N\"),\n",
    "    (\"Beckett is a dancer\", \"N V D N\"),\n",
    "    (\"Networks are things\", \"N V N\"),\n",
    "    (\"The lady killed a cat\", \"D N V D N\"),\n",
    "    (\"Summer is tomorrow\", \"N V N\"),\n",
    "    (\"A girl cries\", \"D N V\"),\n",
    "    (\"I am a dog\", \"N V D N\"),\n",
    "    (\"Orange is the fruit\", \"N V D N\"),\n",
    "    (\"Mary had a lamb\", \"N V D N\"),\n",
    "    (\"She died yesterday\", \"N V N\"),\n",
    "    (\"The dog jumped\", \"D N V\"),\n",
    "    (\"The man ran\", \"D N V\"),\n",
    "    (\"The sun slept\", \"D N V\"),\n",
    "    (\"the computer is dying\", \"D N V V\"),\n",
    "    (\"Alan likes pears\", \"N V N\"),\n",
    "    (\"I am the octopus\", \"N V D N\"),\n",
    "    (\"This is a sentence\", \"D V D N\"),\n",
    "    (\"The dog walked\", \"D N V\"),\n",
    "    (\"The wind was blowing yesterday\", \"D N V V N\"),\n",
    "    (\"The laptop cried\", \"D N V\"),\n",
    "    (\"I like running\", \"N V V \"),\n",
    "    (\"He hates cats\", \"N V N\"),\n",
    "    (\"Alan wants food\", \"N V N\"),\n",
    "    (\"It is a baby\", \"N V D N\"),\n",
    "    (\"I had a donut\", \"N V D N\"),\n",
    "    (\"Blotto is game\", \"N V N\"),\n",
    "    (\"Game math win\", \"N N N\"),\n",
    "    (\"Nutella is a topping\", \"N V D N\"),\n",
    "    (\"Work takes time\", \"N V N\"),\n",
    "    (\"Be like Alex\", \"V D N\"),\n",
    "    (\"He need some milk\", \"P V D N\"),\n",
    "    (\"A cat has a rat\", \"D N V D N\")\n",
    "]"
   ]
  },
  {
   "cell_type": "markdown",
   "id": "c619a9cf",
   "metadata": {},
   "source": [
    "### Preprocess raw dataset"
   ]
  },
  {
   "cell_type": "code",
   "execution_count": 53,
   "id": "b9e9c3ba",
   "metadata": {},
   "outputs": [],
   "source": [
    "def process_sentence(sentence):\n",
    "    \"\"\"Convert a string into a list of lowercased words.\"\"\"\n",
    "    return sentence.lower().split()\n",
    "\n",
    "\n",
    "def process_parts(parts):\n",
    "    \"\"\"Break the parts into individual list elements.\"\"\"\n",
    "    return parts.split()\n",
    "\n",
    "\n",
    "dataset = [(process_sentence(s), process_parts(p)) for s, p in raw_dataset]"
   ]
  },
  {
   "cell_type": "markdown",
   "id": "d855326b",
   "metadata": {},
   "source": [
    "### Prepare data for use as NN input\n",
    "\n",
    "We can't pass a list of plain text words and parts-of-speech to a NN. We need to convert them to a more appropriate format.\n",
    "\n",
    "We'll start by creating a unique index for each word and part-of-speech."
   ]
  },
  {
   "cell_type": "code",
   "execution_count": 54,
   "id": "63e114fb",
   "metadata": {},
   "outputs": [],
   "source": [
    "# Grab all unique words\n",
    "word_to_index = {}\n",
    "word_counts = {}\n",
    "total_words = 0\n",
    "\n",
    "# Grab all unique parts-of-speech\n",
    "part_to_index = {}\n",
    "part_counts = {}\n",
    "part_list = []\n",
    "total_parts = 0\n",
    "\n",
    "for words, parts in dataset:\n",
    "\n",
    "    # Need a part-of-speech for every word\n",
    "    assert len(words) == len(parts)\n",
    "\n",
    "    # Process words\n",
    "    total_words += len(words)\n",
    "\n",
    "    for word in words:\n",
    "        if word not in word_to_index:\n",
    "            word_to_index[word] = len(word_to_index)\n",
    "            word_counts[word] = 0\n",
    "        word_counts[word] += 1\n",
    "\n",
    "    # Process parts\n",
    "    total_parts += len(parts)\n",
    "\n",
    "    for part in parts:\n",
    "        if part not in part_to_index:\n",
    "            part_to_index[part] = len(part_to_index)\n",
    "            part_counts[part] = 0\n",
    "            part_list.append(part)\n",
    "        part_counts[part] += 1"
   ]
  },
  {
   "cell_type": "code",
   "execution_count": 55,
   "id": "3a91d625",
   "metadata": {},
   "outputs": [
    {
     "name": "stdout",
     "output_type": "stream",
     "text": [
      "Total number of words: 418\n",
      "Number of unique words: 219\n",
      "\n",
      "       Vocabulary Indices\n",
      "--------------------------------\n",
      "             a =>  23 (31)\n",
      "          alan => 193 ( 2)\n",
      "          alex =>  48 ( 2)\n",
      "         alice => 106 ( 1)\n",
      "        almost =>  55 ( 1)\n",
      "          also =>  35 ( 1)\n",
      "            am => 160 ( 3)\n",
      "       amazing => 147 ( 1)\n",
      "            an => 121 ( 2)\n",
      "         apple =>   3 ( 3)\n",
      "           are =>  12 (12)\n",
      "         areas =>  47 ( 1)\n",
      "            as =>  16 ( 2)\n",
      "           ate =>   2 ( 7)\n",
      "         audio => 136 ( 1)\n",
      "        author =>  53 ( 1)\n",
      "          baby => 206 ( 1)\n",
      "        barked => 116 ( 1)\n",
      "            be => 150 ( 2)\n",
      "       beckett => 174 ( 1)\n",
      "          best =>  20 ( 1)\n",
      "          bike =>  98 ( 1)\n",
      "        blotto => 208 ( 1)\n",
      "       blowing => 199 ( 1)\n",
      "          blue =>  59 ( 1)\n",
      "          book =>   7 ( 2)\n",
      "        branch => 113 ( 1)\n",
      "           bus => 171 ( 1)\n",
      "       caramel =>  74 ( 1)\n",
      "           cat => 122 ( 6)\n",
      "          cats =>  11 ( 3)\n",
      "         clark => 134 ( 1)\n",
      "         class => 109 ( 1)\n",
      "       college =>  37 ( 1)\n",
      "         color =>  60 ( 1)\n",
      "      computer =>  91 ( 2)\n",
      "     computers =>  76 ( 3)\n",
      "          cord =>  83 ( 1)\n",
      "        covers =>  64 ( 1)\n",
      "         cried => 201 ( 1)\n",
      "         cries => 183 ( 1)\n",
      "           cup => 155 ( 1)\n",
      "        dancer => 175 ( 1)\n",
      "    department =>  39 ( 1)\n",
      "          died => 187 ( 1)\n",
      "           dog =>   1 ( 8)\n",
      "          dogs =>  14 ( 2)\n",
      "         doing => 151 ( 1)\n",
      "         donut => 207 ( 1)\n",
      "         drank => 127 ( 1)\n",
      "         dying => 192 ( 1)\n",
      "           eat =>  17 ( 1)\n",
      "   electricity =>  78 ( 1)\n",
      "           end =>  56 ( 1)\n",
      "     everybody =>   4 ( 2)\n",
      "     extension =>  82 ( 1)\n",
      "        failed => 104 ( 1)\n",
      "          fair =>  40 ( 1)\n",
      "        filled => 156 ( 1)\n",
      "     finishing =>  49 ( 1)\n",
      "          fish => 143 ( 1)\n",
      "         fixed => 135 ( 1)\n",
      "          food =>  18 ( 5)\n",
      "        fought => 123 ( 1)\n",
      "     fractions =>  71 ( 1)\n",
      "         frary => 139 ( 1)\n",
      "        friday =>  42 ( 1)\n",
      "       friends => 142 ( 1)\n",
      "         fruit => 130 ( 2)\n",
      "          game => 108 ( 4)\n",
      "          girl => 182 ( 1)\n",
      "            go => 140 ( 1)\n",
      "          gold =>  79 ( 1)\n",
      "          good =>  13 ( 3)\n",
      "           got => 124 ( 1)\n",
      "           had => 112 ( 3)\n",
      "      happened =>  73 ( 1)\n",
      "      harrison =>  66 ( 1)\n",
      "         harry => 101 ( 1)\n",
      "           has =>  67 ( 2)\n",
      "         hates => 204 ( 1)\n",
      "          have =>  27 ( 2)\n",
      "        having =>  38 ( 1)\n",
      "            he => 203 ( 2)\n",
      "         helps =>  84 ( 1)\n",
      "           his =>  50 ( 2)\n",
      "           hit => 118 ( 1)\n",
      "          home =>  99 ( 1)\n",
      "      homework =>  30 ( 2)\n",
      "         human => 161 ( 1)\n",
      "          hurt => 125 ( 1)\n",
      "             i =>  21 (20)\n",
      "     interests =>  44 ( 1)\n",
      "            is =>   9 (24)\n",
      "            it =>  54 ( 3)\n",
      "          jett => 103 ( 1)\n",
      "          jump => 126 ( 1)\n",
      "        jumped => 188 ( 1)\n",
      "        killed => 179 ( 1)\n",
      "          lady => 178 ( 1)\n",
      "          lamb => 186 ( 1)\n",
      "         lamps =>  93 ( 1)\n",
      "        laptop => 200 ( 1)\n",
      "        lasted => 110 ( 1)\n",
      "          like => 165 ( 3)\n",
      "         likes => 194 ( 1)\n",
      "          love =>  92 ( 1)\n",
      "       machine =>  88 ( 1)\n",
      "      machines => 173 ( 1)\n",
      "       mammals => 164 ( 1)\n",
      "           man => 189 ( 1)\n",
      "          many =>  46 ( 1)\n",
      "          mary => 185 ( 1)\n",
      "          math => 209 ( 1)\n",
      "            me => 168 ( 1)\n",
      "          milk => 217 ( 1)\n",
      "     milkshake =>  24 ( 1)\n",
      "       mirrors => 170 ( 1)\n",
      "         movie => 133 ( 1)\n",
      "          much =>  29 ( 1)\n",
      "            my =>  87 ( 1)\n",
      "          need => 215 ( 1)\n",
      "      networks => 176 ( 1)\n",
      "         never =>  97 ( 1)\n",
      "           not =>  15 ( 2)\n",
      "           now =>  26 ( 1)\n",
      "       numbers =>  70 ( 1)\n",
      "       nutella => 211 ( 1)\n",
      "       octopus => 196 ( 1)\n",
      "            of =>  57 ( 1)\n",
      "            on =>  86 ( 1)\n",
      "        orange => 184 ( 1)\n",
      "       outside =>  95 ( 1)\n",
      "       pancake =>  65 ( 1)\n",
      "         pears => 195 ( 1)\n",
      "          ph.d =>  51 ( 1)\n",
      "           pie =>  34 ( 1)\n",
      "        played => 131 ( 1)\n",
      "        pomona => 141 ( 1)\n",
      "      protocol => 146 ( 1)\n",
      "          race => 115 ( 1)\n",
      "           ran => 114 ( 2)\n",
      "           rat => 218 ( 1)\n",
      "          read =>   5 ( 1)\n",
      "       reading => 144 ( 1)\n",
      "      research =>  43 ( 1)\n",
      "         right =>  25 ( 1)\n",
      "       running => 202 ( 1)\n",
      "      semester =>  58 ( 2)\n",
      "      sentence => 148 ( 2)\n",
      "         shark => 167 ( 1)\n",
      "           she =>  52 ( 2)\n",
      "          shoe => 102 ( 1)\n",
      "        should => 149 ( 1)\n",
      "      sleeping =>  10 ( 1)\n",
      "        sleeps => 162 ( 1)\n",
      "         slept => 191 ( 1)\n",
      "         snake => 129 ( 1)\n",
      "          some => 216 ( 1)\n",
      "        sounds =>  36 ( 1)\n",
      "          span =>  45 ( 1)\n",
      "         spins => 172 ( 1)\n",
      "        summer => 180 ( 1)\n",
      "           sun => 190 ( 1)\n",
      "         sweet =>  75 ( 1)\n",
      "         swims => 154 ( 1)\n",
      "         syrup =>  63 ( 1)\n",
      "         takes => 213 ( 1)\n",
      "       teacher => 158 ( 1)\n",
      "         teeth =>  69 ( 1)\n",
      "          test => 105 ( 1)\n",
      "          that =>   6 ( 1)\n",
      "           the =>   0 (40)\n",
      "         there => 169 ( 1)\n",
      "         these =>  68 ( 2)\n",
      "          they =>  61 ( 1)\n",
      "         thing =>  81 ( 1)\n",
      "        things => 177 ( 1)\n",
      "          this =>  41 ( 7)\n",
      "          time => 214 ( 1)\n",
      "            to => 138 ( 2)\n",
      "          toby => 117 ( 1)\n",
      "         today => 159 ( 1)\n",
      "      tomorrow => 181 ( 1)\n",
      "           too =>  28 ( 1)\n",
      "         tools => 152 ( 1)\n",
      "       topping => 212 ( 1)\n",
      "         trapp =>   8 ( 3)\n",
      "          tree => 111 ( 1)\n",
      "         trees => 157 ( 1)\n",
      "       turtles => 166 ( 1)\n",
      "           use =>  77 ( 1)\n",
      "      valuable =>  80 ( 1)\n",
      "        walked =>  94 ( 2)\n",
      "          wall => 119 ( 1)\n",
      "          want =>  22 ( 1)\n",
      "         wants => 205 ( 1)\n",
      "           was => 198 ( 1)\n",
      "       watched => 132 ( 1)\n",
      "    watermelon =>  19 ( 1)\n",
      "            we =>  89 ( 1)\n",
      "          went => 137 ( 1)\n",
      "         whale => 153 ( 1)\n",
      "        whales => 163 ( 1)\n",
      "           win => 210 ( 1)\n",
      "          wind => 197 ( 1)\n",
      "        wizard => 100 ( 1)\n",
      "           won => 107 ( 1)\n",
      "         won't =>  32 ( 1)\n",
      "    wonderland => 145 ( 1)\n",
      "         words =>  90 ( 1)\n",
      "          work =>  33 ( 2)\n",
      "         works =>  85 ( 1)\n",
      "         wrote =>  62 ( 1)\n",
      "          yerb => 128 ( 1)\n",
      "     yesterday =>  72 ( 3)\n",
      "           you =>  96 ( 3)\n",
      "          zayn => 120 ( 1)\n",
      "          zoom =>  31 ( 1)\n"
     ]
    }
   ],
   "source": [
    "print(\"Total number of words:\", total_words)\n",
    "print(\"Number of unique words:\", len(word_to_index))\n",
    "\n",
    "print()\n",
    "print(\"       Vocabulary Indices\")\n",
    "print(\"--------------------------------\")\n",
    "\n",
    "for word in sorted(word_to_index):\n",
    "    print(f\"{word:>14} => {word_to_index[word]:>3} ({word_counts[word]:>2})\")"
   ]
  },
  {
   "cell_type": "code",
   "execution_count": 56,
   "id": "8220a559",
   "metadata": {},
   "outputs": [
    {
     "name": "stdout",
     "output_type": "stream",
     "text": [
      "Total number of parts-of-speech: 418\n",
      "Number of unique parts-of-speech: 4\n",
      "\n",
      " Part Indices\n",
      "--------------\n",
      " D => 0 (112/418=26.79%)\n",
      " N => 1 (191/418=45.69%)\n",
      " V => 2 (114/418=27.27%)\n",
      " P => 3 (  1/418=0.24%)\n"
     ]
    }
   ],
   "source": [
    "print(\"Total number of parts-of-speech:\", total_parts)\n",
    "print(\"Number of unique parts-of-speech:\", len(part_to_index))\n",
    "\n",
    "print()\n",
    "print(\" Part Indices\")\n",
    "print(\"--------------\")\n",
    "\n",
    "for part, index in part_to_index.items():\n",
    "    print(f\" {part} => {index} ({part_counts[part]:>3}/{total_parts}={100*part_counts[part]/total_parts:.2f}%)\")"
   ]
  },
  {
   "cell_type": "markdown",
   "id": "b1eb79e3",
   "metadata": {},
   "source": [
    "### Question: What is the highest accuracy you'd expect from a \"dumb\" classifier (hint: look at the distribution of the targets in the output above)?"
   ]
  },
  {
   "cell_type": "markdown",
   "id": "d142bdca",
   "metadata": {},
   "source": [
    "## Building a Parts-of-Speech Classifier"
   ]
  },
  {
   "cell_type": "markdown",
   "id": "833357a4",
   "metadata": {},
   "source": [
    "### Word embeddings\n",
    "\n",
    "Once we have a unique identifier for each word, it is useful to start our NN with an [embedding](https://pytorch.org/docs/stable/generated/torch.nn.Embedding.html#torch.nn.Embedding) layer. This layer converts an index into a vector of values.\n",
    "\n",
    "You can think of each value as indicating something about the word. For example, maybe the first value indicates how much a word conveys happiness vs sadness. Of course, the NN can learn any attributes and it is not limited to thinks like happy/sad, masculine/feminine, etc.\n",
    "\n",
    "This is an important concept in natual language processing. It enables the network to consider two distinct words as *similar*---synonyms would share similar embedding values.\n",
    "\n",
    "**Creating an embedding layer**. An embedding layer is created by telling it the size of the vocabulary (the number of words) and an embedding dimension (how many values to use to represent a word).\n",
    "\n",
    "**Embedding layer input and output**. An embedding layer takes a word index and return a corresponding embedding as a vector."
   ]
  },
  {
   "cell_type": "markdown",
   "id": "49dd9811",
   "metadata": {},
   "source": [
    "#### Question: What do you expect to see printed for the indices?"
   ]
  },
  {
   "cell_type": "code",
   "execution_count": 57,
   "id": "71a695b7",
   "metadata": {},
   "outputs": [
    {
     "name": "stdout",
     "output_type": "stream",
     "text": [
      "An example mapping of words to indices.\n",
      "Words: ['trapp', 'computer']\n",
      "Indices: tensor([ 8, 91])\n"
     ]
    }
   ],
   "source": [
    "def to_indices(words, mapping):\n",
    "    \"\"\"Convert a word (like \"apple\") into an index (like 4).\"\"\"\n",
    "    indices = [mapping[w] for w in words]\n",
    "    return torch.tensor(indices, dtype=torch.long)\n",
    "\n",
    "\n",
    "words = [\"trapp\", \"computer\"]\n",
    "print(\"An example mapping of words to indices.\")\n",
    "print(\"Words:\", words)\n",
    "print(\"Indices:\", to_indices(words, word_to_index))"
   ]
  },
  {
   "cell_type": "code",
   "execution_count": 58,
   "id": "d20c8981",
   "metadata": {},
   "outputs": [],
   "source": [
    "# The vocab size is determined by how many words you expect to train on\n",
    "vocab_size = len(word_to_index)\n",
    "\n",
    "# We get to pick the number of parameters that represent a word\n",
    "embed_dim = total_words+1\n",
    "\n",
    "embed_layer = torch.nn.Embedding(vocab_size, embed_dim)"
   ]
  },
  {
   "cell_type": "markdown",
   "id": "ab86bce6",
   "metadata": {},
   "source": [
    "#### Question: What is the expected shape of `embed_output`?"
   ]
  },
  {
   "cell_type": "code",
   "execution_count": 59,
   "id": "24739098",
   "metadata": {},
   "outputs": [
    {
     "name": "stdout",
     "output_type": "stream",
     "text": [
      "Indices shape: torch.Size([5])\n",
      "Embedding output shape: torch.Size([5, 419])\n",
      "Embedding values:\n",
      "tensor([[ 1.7346, -0.0428,  1.8209,  ..., -0.2443, -0.1761, -1.9134],\n",
      "        [-1.9277, -3.5695,  0.4050,  ...,  2.3408, -1.0277,  0.0538],\n",
      "        [-1.8678, -0.9062, -2.1279,  ..., -0.2905,  2.0574, -0.5656],\n",
      "        [ 1.7346, -0.0428,  1.8209,  ..., -0.2443, -0.1761, -1.9134],\n",
      "        [-0.5816,  0.2789, -0.2746,  ...,  0.6590, -0.6369, -0.0204]],\n",
      "       grad_fn=<EmbeddingBackward0>)\n"
     ]
    }
   ],
   "source": [
    "sentence = \"The dog ate the apple\"\n",
    "words = process_sentence(sentence)\n",
    "indices = to_indices(words, word_to_index)\n",
    "\n",
    "# Test out our untrained embedding layer\n",
    "embed_output = embed_layer(indices)\n",
    "print(\"Indices shape:\", indices.shape)\n",
    "print(\"Embedding output shape:\", embed_output.shape)\n",
    "print(f\"Embedding values:\\n{embed_output}\")"
   ]
  },
  {
   "cell_type": "markdown",
   "id": "6e167a05",
   "metadata": {},
   "source": [
    "### Adding an LSTM (RNN) layer\n",
    "\n",
    "The [LSTM](https://pytorch.org/docs/stable/generated/torch.nn.LSTM.html#torch.nn.LSTM) layer is in charge of processing embeddings such that the network can output the correct classification. Since this is a recurrent layer, it will take into account past words when it creates an output for the current word.\n",
    "\n",
    "**Creating an LSTM layer**. To create an LSTM you need to tell it the size of its input (the size of an embedding) and the size of its internal cell state.\n",
    "\n",
    "**LSTM layer input and output**. An LSTM takes an embedding (and optionally an initial hidden and cell state) and outputs a value for each word as well as the current hidden and cell state).\n",
    "\n",
    "If you read the linked LSTM documentation you will see that it requires input in this format: `(seq_len, batch, input_size)`.\n",
    "\n",
    "As you can see above, our embedding layer outputs something that is `(seq_len, input_size)`. So, we need to add a dimension in the middle."
   ]
  },
  {
   "cell_type": "code",
   "execution_count": 60,
   "id": "4284a4b5",
   "metadata": {},
   "outputs": [],
   "source": [
    "hidden_dim = 784  # Hyperparameter\n",
    "num_layers = 2  # Hyperparameter\n",
    "\n",
    "lstm_layer = torch.nn.LSTM(embed_dim, hidden_dim, num_layers=num_layers)"
   ]
  },
  {
   "cell_type": "markdown",
   "id": "df0337e8",
   "metadata": {},
   "source": [
    "#### Question: What is the expected shape of `lstm_output`?"
   ]
  },
  {
   "cell_type": "code",
   "execution_count": 61,
   "id": "486bb0a2",
   "metadata": {},
   "outputs": [
    {
     "name": "stdout",
     "output_type": "stream",
     "text": [
      "LSTM output shape: torch.Size([5, 1, 784])\n"
     ]
    }
   ],
   "source": [
    "# The LSTM layer expects the input to be in the shape (L, N, E)\n",
    "#   L is the length of the sequence\n",
    "#   N is the batch size (we'll stick with 1 here)\n",
    "#   E is the size of the embedding\n",
    "\n",
    "lstm_input = embed_output.unsqueeze(1)\n",
    "\n",
    "# We can ignore the second output of the lstm_layer for now\n",
    "lstm_output, _ = lstm_layer(lstm_input)\n",
    "\n",
    "print(\"LSTM output shape:\", lstm_output.shape)"
   ]
  },
  {
   "cell_type": "markdown",
   "id": "e655160d",
   "metadata": {},
   "source": [
    "### Classifiying the LSTM output\n",
    "\n",
    "We can now add a fully connected, [linear](https://pytorch.org/docs/stable/generated/torch.nn.Linear.html#torch.nn.Linear) layer to our NN to classify the word's part-of-speech.\n",
    "\n",
    "**Creating a linear layer**. We create a linear layer by specifying the shape of the input into the layer and the number of neurons in the linear layer.\n",
    "\n",
    "**Linear layer input and output**. The input is expected to be `(input_size, output_size)` and the output will be the output of each neuron."
   ]
  },
  {
   "cell_type": "code",
   "execution_count": 62,
   "id": "75440441",
   "metadata": {},
   "outputs": [],
   "source": [
    "# Out network needs an output for each possible part-of-speech\n",
    "parts_size = len(part_to_index)\n",
    "\n",
    "linear_layer = torch.nn.Linear(hidden_dim, parts_size)"
   ]
  },
  {
   "cell_type": "markdown",
   "id": "1cc28453",
   "metadata": {},
   "source": [
    "#### Question: What is the expected shape of `linear_output`?"
   ]
  },
  {
   "cell_type": "code",
   "execution_count": 63,
   "id": "aefce339",
   "metadata": {},
   "outputs": [
    {
     "name": "stdout",
     "output_type": "stream",
     "text": [
      "Linear output shape: torch.Size([5, 1, 4])\n",
      "Linear output:\n",
      "tensor([[[-0.0113,  0.0304,  0.0141,  0.0146]],\n",
      "\n",
      "        [[-0.0214,  0.0324,  0.0110,  0.0125]],\n",
      "\n",
      "        [[-0.0183,  0.0352,  0.0089,  0.0154]],\n",
      "\n",
      "        [[-0.0177,  0.0491,  0.0115,  0.0030]],\n",
      "\n",
      "        [[-0.0211,  0.0529,  0.0354,  0.0158]]], grad_fn=<AddBackward0>)\n"
     ]
    }
   ],
   "source": [
    "linear_output = linear_layer(lstm_output)\n",
    "\n",
    "print(\"Linear output shape:\", linear_output.shape)\n",
    "print(f\"Linear output:\\n{linear_output}\")"
   ]
  },
  {
   "cell_type": "markdown",
   "id": "566eb1a2",
   "metadata": {},
   "source": [
    "## Training an LSTM Model"
   ]
  },
  {
   "cell_type": "markdown",
   "id": "ed534cbe",
   "metadata": {},
   "source": [
    "### Setting all hyperparameters"
   ]
  },
  {
   "cell_type": "code",
   "execution_count": 64,
   "id": "f687b726",
   "metadata": {},
   "outputs": [],
   "source": [
    "# Training/validation split\n",
    "valid_percent = 0.15\n",
    "\n",
    "# Size of word embedding\n",
    "embed_dim = 419\n",
    "\n",
    "# Size of LSTM internal state\n",
    "hidden_dim = 784\n",
    "\n",
    "# Number of LSTM layers\n",
    "num_layers = 1\n",
    "\n",
    "# Optimization hyperparameters\n",
    "learning_rate = 0.0001\n",
    "num_epochs = 20"
   ]
  },
  {
   "cell_type": "markdown",
   "id": "e27273ef",
   "metadata": {},
   "source": [
    "### Splitting the dataset into training and validation partitions"
   ]
  },
  {
   "cell_type": "code",
   "execution_count": 65,
   "id": "2f53886c",
   "metadata": {},
   "outputs": [
    {
     "name": "stdout",
     "output_type": "stream",
     "text": [
      "Size of training dataset: 91\n",
      "Size of validation dataset: 15\n"
     ]
    }
   ],
   "source": [
    "N = len(dataset)\n",
    "vocab_size = len(word_to_index)  # Number of unique input words\n",
    "parts_size = len(part_to_index)  # Number of unique output targets\n",
    "\n",
    "# Shuffle the data so that we can split the dataset randomly\n",
    "shuffle(dataset)\n",
    "\n",
    "split_point = int(N * valid_percent)\n",
    "valid_dataset = dataset[:split_point]\n",
    "train_dataset = dataset[split_point:]\n",
    "\n",
    "print(\"Size of training dataset:\", len(train_dataset))\n",
    "print(\"Size of validation dataset:\", len(valid_dataset))"
   ]
  },
  {
   "cell_type": "markdown",
   "id": "ec69bd9c",
   "metadata": {},
   "source": [
    "### Creating the parts-of-speech LSTM model"
   ]
  },
  {
   "cell_type": "code",
   "execution_count": 66,
   "id": "f3293433",
   "metadata": {},
   "outputs": [],
   "source": [
    "class POS_LSTM(torch.nn.Module):\n",
    "    \"\"\"Parts-of-speech LSTM model.\"\"\"\n",
    "\n",
    "    def __init__(self, vocab_size, embed_dim, hidden_dim, num_layers, parts_size):\n",
    "        super().__init__()\n",
    "        self.embed = torch.nn.Embedding(vocab_size, embed_dim)\n",
    "        self.lstm = torch.nn.LSTM(embed_dim, hidden_dim, num_layers=num_layers)\n",
    "        self.linear = torch.nn.Linear(hidden_dim, parts_size)\n",
    "\n",
    "    def forward(self, X):\n",
    "        X = self.embed(X)\n",
    "        X, _ = self.lstm(X.unsqueeze(1))\n",
    "        return self.linear(X)"
   ]
  },
  {
   "cell_type": "markdown",
   "id": "d5ee5bc3",
   "metadata": {},
   "source": [
    "### Training"
   ]
  },
  {
   "cell_type": "code",
   "execution_count": 67,
   "id": "94c09deb",
   "metadata": {},
   "outputs": [],
   "source": [
    "def train_one_epoch(mb, dataset, model, criterion, optimizer):\n",
    "\n",
    "    model.train()\n",
    "\n",
    "    total_loss = 0\n",
    "\n",
    "    for words, parts in progress_bar(dataset, parent=mb):\n",
    "\n",
    "        mb.child.comment = \"Training\"\n",
    "        \n",
    "        word_indices = to_indices(words, word_to_index)\n",
    "        part_indices = to_indices(parts, part_to_index)\n",
    "\n",
    "        part_scores = model(word_indices)\n",
    "\n",
    "        loss = criterion(part_scores.squeeze(), part_indices)\n",
    "        total_loss += loss.item()\n",
    "\n",
    "        optimizer.zero_grad()\n",
    "        loss.backward()\n",
    "        optimizer.step()\n",
    "\n",
    "    return total_loss / len(dataset)\n",
    "\n",
    "\n",
    "def validate(mb, dataset, model, criterion):\n",
    "\n",
    "    model.eval()\n",
    "\n",
    "    total_words = 0\n",
    "    total_correct = 0\n",
    "    total_loss = 0\n",
    "\n",
    "    with torch.no_grad():\n",
    "\n",
    "        data_iter = progress_bar(dataset, parent=mb) if mb else iter(dataset)\n",
    "        for words, parts in data_iter:\n",
    "\n",
    "            if mb:\n",
    "                mb.child.comment = f\"Validation\"\n",
    "\n",
    "            total_words += len(words)\n",
    "\n",
    "            word_indices = to_indices(words, word_to_index)\n",
    "            part_indices = to_indices(parts, part_to_index)\n",
    "\n",
    "            part_scores = model(word_indices).squeeze()\n",
    "\n",
    "            loss = criterion(part_scores.squeeze(), part_indices)\n",
    "            total_loss += loss.item()\n",
    "\n",
    "            predictions = part_scores.argmax(dim=1)\n",
    "            total_correct += sum(t == part_list[p] for t, p in zip(parts, predictions))\n",
    "\n",
    "    return total_correct * 100 / total_words, total_loss / len(dataset)\n",
    "\n",
    "\n",
    "def update_plots(mb, train_losses, valid_losses, epoch, num_epochs):\n",
    "\n",
    "    # Update plot data\n",
    "    max_loss = max(max(train_losses), max(valid_losses))\n",
    "    min_loss = min(min(train_losses), min(valid_losses))\n",
    "\n",
    "    x_margin = 0.2\n",
    "    x_bounds = [0 - x_margin, num_epochs + x_margin]\n",
    "\n",
    "    y_margin = 0.1 * (max_loss - min_loss)\n",
    "    y_bounds = [min_loss - y_margin, max_loss + y_margin]\n",
    "\n",
    "    train_xaxis = torch.linspace(0, epoch + 1, len(train_losses))\n",
    "    valid_xaxis = torch.linspace(0, epoch + 1, len(valid_losses))\n",
    "    graph_data = [[train_xaxis, train_losses], [valid_xaxis, valid_losses]]\n",
    "\n",
    "    mb.update_graph(graph_data, x_bounds, y_bounds)"
   ]
  },
  {
   "cell_type": "code",
   "execution_count": 68,
   "id": "3c875a0c",
   "metadata": {},
   "outputs": [
    {
     "name": "stdout",
     "output_type": "stream",
     "text": [
      "=================================================================\n",
      "Layer (type:depth-idx)                   Param #\n",
      "=================================================================\n",
      "├─Embedding: 1-1                         91,761\n",
      "├─LSTM: 1-2                              3,778,880\n",
      "├─Linear: 1-3                            3,140\n",
      "=================================================================\n",
      "Total params: 3,873,781\n",
      "Trainable params: 3,873,781\n",
      "Non-trainable params: 0\n",
      "=================================================================\n"
     ]
    },
    {
     "data": {
      "text/html": [],
      "text/plain": [
       "<IPython.core.display.HTML object>"
      ]
     },
     "metadata": {},
     "output_type": "display_data"
    },
    {
     "data": {
      "image/png": "[encoded data removed]",
      "text/plain": [
       "<Figure size 432x288 with 1 Axes>"
      ]
     },
     "metadata": {},
     "output_type": "display_data"
    }
   ],
   "source": [
    "model = POS_LSTM(vocab_size, embed_dim, hidden_dim, num_layers, parts_size)\n",
    "\n",
    "summary(model)\n",
    "\n",
    "criterion = torch.nn.CrossEntropyLoss()\n",
    "optimizer = torch.optim.Adam(model.parameters(), lr=3e-5)\n",
    "\n",
    "train_losses = []\n",
    "valid_losses = []\n",
    "accuracies = []\n",
    "\n",
    "mb = master_bar(range(num_epochs))\n",
    "mb.names = [\"Train Loss\", \"Valid Loss\"]\n",
    "mb.main_bar.comment = f\"Epochs\"\n",
    "\n",
    "accuracy, valid_loss = validate(None, valid_dataset, model, criterion)\n",
    "valid_losses.append(valid_loss)\n",
    "accuracies.append(accuracy)\n",
    "\n",
    "for epoch in mb:\n",
    "\n",
    "    # Shuffle the data for each epoch (stochastic gradient descent)\n",
    "    shuffle(train_dataset)\n",
    "\n",
    "    train_loss = train_one_epoch(mb, train_dataset, model, criterion, optimizer)\n",
    "    train_losses.append(train_loss)\n",
    "\n",
    "    accuracy, valid_loss = validate(mb, valid_dataset, model, criterion)\n",
    "    valid_losses.append(valid_loss)\n",
    "    accuracies.append(accuracy)\n",
    "\n",
    "    update_plots(mb, train_losses, valid_losses, epoch, num_epochs)"
   ]
  },
  {
   "cell_type": "code",
   "execution_count": 69,
   "id": "63e47f76",
   "metadata": {},
   "outputs": [
    {
     "data": {
      "image/png": "[encoded data removed]",
      "text/plain": [
       "<Figure size 748.8x655.2 with 1 Axes>"
      ]
     },
     "metadata": {},
     "output_type": "display_data"
    }
   ],
   "source": [
    "plt.plot(accuracies, \"--o\")\n",
    "plt.title(f\"Accuracy (Final={accuracies[-1]:.2f}%)\")\n",
    "plt.xlabel(\"Epoch\")\n",
    "_ = plt.ylim([0, 100])"
   ]
  },
  {
   "cell_type": "markdown",
   "id": "17e780e3",
   "metadata": {},
   "source": [
    "### Examining results\n",
    "\n",
    "Here we look at all words that are misclassified by the model"
   ]
  },
  {
   "cell_type": "code",
   "execution_count": 70,
   "id": "edc42165",
   "metadata": {},
   "outputs": [
    {
     "name": "stdout",
     "output_type": "stream",
     "text": [
      "Mis-predictions on entire dataset after training\n",
      "     Word      | True Part | Prediction\n",
      "---------------------------------------\n",
      "          this |     N     |    D\n",
      "     extension |     D     |    N\n",
      "          cord |     N     |    V\n",
      "         helps |     V     |    N\n",
      "         alice |     N     |    V\n",
      "           won |     V     |    N\n",
      "         lamps |     N     |    V\n",
      "            my |     D     |    N\n",
      "          gold |     N     |    V\n",
      "      valuable |     D     |    N\n",
      "            he |     P     |    N\n"
     ]
    }
   ],
   "source": [
    "print(\"Mis-predictions on entire dataset after training\")\n",
    "header = \"Word\".center(14) + \" | True Part | Prediction\"\n",
    "print(header)\n",
    "print(\"-\" * len(header))\n",
    "\n",
    "model.eval()\n",
    "\n",
    "with torch.no_grad():\n",
    "    \n",
    "    for words, parts in dataset:\n",
    "        \n",
    "        word_indices = to_indices(words, word_to_index)\n",
    "        \n",
    "        part_scores = model(word_indices)\n",
    "        \n",
    "        predictions = part_scores.squeeze().argmax(dim=1)\n",
    "        \n",
    "        for word, part, pred in zip(words, parts, predictions):\n",
    "            \n",
    "            if part != part_list[pred]:\n",
    "                print(f\"{word:>14} |     {part}     |    {part_list[pred]}\")"
   ]
  },
  {
   "cell_type": "markdown",
   "id": "4cf48486",
   "metadata": {},
   "source": [
    "## Using the Model for Inference"
   ]
  },
  {
   "cell_type": "code",
   "execution_count": 22,
   "id": "cc88aa4f",
   "metadata": {},
   "outputs": [
    {
     "name": "stdout",
     "output_type": "stream",
     "text": [
      "I => N\n",
      "is => N\n",
      "a => N\n",
      "teeth => N\n"
     ]
    }
   ],
   "source": [
    "new_sentence = \"I is a teeth\"\n",
    "\n",
    "# Convert sentence to lowercase words\n",
    "words = process_sentence(new_sentence)\n",
    "\n",
    "# Check that each word is in our vocabulary\n",
    "for word in words:\n",
    "    assert word in word_to_index\n",
    "\n",
    "# Convert input to a tensor\n",
    "word_indices = to_indices(words, word_to_index)\n",
    "\n",
    "# Compute prediction\n",
    "predictions = model(word_indices)\n",
    "predictions = predictions.squeeze().argmax(dim=1)\n",
    "\n",
    "# Print results\n",
    "for word, part in zip(new_sentence.split(), predictions):\n",
    "    print(word, \"=>\", part_list[part.item()])"
   ]
  }
 ],
 "metadata": {
  "jupytext": {
   "formats": "ipynb,py:percent"
  },
  "kernelspec": {
   "display_name": "Python 3 (ipykernel)",
   "language": "python",
   "name": "python3"
  },
  "language_info": {
   "codemirror_mode": {
    "name": "ipython",
    "version": 3
   },
   "file_extension": ".py",
   "mimetype": "text/x-python",
   "name": "python",
   "nbconvert_exporter": "python",
   "pygments_lexer": "ipython3",
   "version": "3.9.9"
  },
  "toc": {
   "base_numbering": 1,
   "nav_menu": {},
   "number_sections": true,
   "sideBar": true,
   "skip_h1_title": true,
   "title_cell": "Table of Contents",
   "title_sidebar": "Contents",
   "toc_cell": true,
   "toc_position": {},
   "toc_section_display": true,
   "toc_window_display": false
  }
 },
 "nbformat": 4,
 "nbformat_minor": 5
}
